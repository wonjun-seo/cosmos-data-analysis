{
 "cells": [
  {
   "cell_type": "markdown",
   "id": "a27d9470",
   "metadata": {},
   "source": [
    "Goal: Find the maximum score in a list"
   ]
  },
  {
   "cell_type": "code",
   "execution_count": 4,
   "id": "fa92768f",
   "metadata": {},
   "outputs": [
    {
     "name": "stdout",
     "output_type": "stream",
     "text": [
      "Highest score is: 92\n"
     ]
    }
   ],
   "source": [
    "scores = [85, 90, 78, 92]\n",
    "\n",
    "max_score = scores[0]\n",
    "for score in scores:\n",
    "    if score >= max_score:\n",
    "        max_score = score\n",
    "\n",
    "print(\"Highest score is:\", max_score)"
   ]
  }
 ],
 "metadata": {
  "kernelspec": {
   "display_name": "cosmos",
   "language": "python",
   "name": "python3"
  },
  "language_info": {
   "codemirror_mode": {
    "name": "ipython",
    "version": 3
   },
   "file_extension": ".py",
   "mimetype": "text/x-python",
   "name": "python",
   "nbconvert_exporter": "python",
   "pygments_lexer": "ipython3",
   "version": "3.12.11"
  }
 },
 "nbformat": 4,
 "nbformat_minor": 5
}
